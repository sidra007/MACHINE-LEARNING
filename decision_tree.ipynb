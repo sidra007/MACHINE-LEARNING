{
  "nbformat": 4,
  "nbformat_minor": 0,
  "metadata": {
    "colab": {
      "name": "Untitled5.ipynb",
      "provenance": [],
      "mount_file_id": "1uOs7OdCuuypu7-jyPvCP6vUZo_i6OFxm",
      "authorship_tag": "ABX9TyOdm5OR1wW2cd6ZCYr2GERq"
    },
    "kernelspec": {
      "name": "python3",
      "display_name": "Python 3"
    }
  },
  "cells": [
    {
      "cell_type": "markdown",
      "metadata": {
        "id": "ZsH_1e1M0OEK"
      },
      "source": [
        "# DECISION TREE"
      ]
    },
    {
      "cell_type": "markdown",
      "metadata": {
        "id": "m6Gbim990RN2"
      },
      "source": [
        "IMPORTING LIBRARIRES"
      ]
    },
    {
      "cell_type": "code",
      "metadata": {
        "id": "FU2HkLtHq3XQ"
      },
      "source": [
        "import numpy as np\n",
        "import pandas as pd\n",
        "import math\n",
        "from matplotlib import pyplot as plt\n",
        "from sklearn.model_selection import train_test_split\n",
        "from sklearn.metrics import mean_squared_error\n",
        "from sklearn.tree import DecisionTreeRegressor\n",
        "from sklearn.preprocessing import StandardScaler\n",
        "######## for plotting and visualization\n",
        "from sklearn import tree"
      ],
      "execution_count": 69,
      "outputs": []
    },
    {
      "cell_type": "markdown",
      "metadata": {
        "id": "rHpxC7Ta0T2-"
      },
      "source": [
        "LOADING DATA"
      ]
    },
    {
      "cell_type": "code",
      "metadata": {
        "id": "sHK4-IaarYrl",
        "outputId": "fe8d6ff3-0009-4f76-efcf-1b040bef569a",
        "colab": {
          "base_uri": "https://localhost:8080/",
          "height": 204
        }
      },
      "source": [
        "dataset=pd.read_csv('/content/drive/My Drive/data/Position_Salaries.csv')\n",
        "dataset.head()\n"
      ],
      "execution_count": 70,
      "outputs": [
        {
          "output_type": "execute_result",
          "data": {
            "text/html": [
              "<div>\n",
              "<style scoped>\n",
              "    .dataframe tbody tr th:only-of-type {\n",
              "        vertical-align: middle;\n",
              "    }\n",
              "\n",
              "    .dataframe tbody tr th {\n",
              "        vertical-align: top;\n",
              "    }\n",
              "\n",
              "    .dataframe thead th {\n",
              "        text-align: right;\n",
              "    }\n",
              "</style>\n",
              "<table border=\"1\" class=\"dataframe\">\n",
              "  <thead>\n",
              "    <tr style=\"text-align: right;\">\n",
              "      <th></th>\n",
              "      <th>Position</th>\n",
              "      <th>Level</th>\n",
              "      <th>Salary</th>\n",
              "    </tr>\n",
              "  </thead>\n",
              "  <tbody>\n",
              "    <tr>\n",
              "      <th>0</th>\n",
              "      <td>Business Analyst</td>\n",
              "      <td>1</td>\n",
              "      <td>45000</td>\n",
              "    </tr>\n",
              "    <tr>\n",
              "      <th>1</th>\n",
              "      <td>Junior Consultant</td>\n",
              "      <td>2</td>\n",
              "      <td>50000</td>\n",
              "    </tr>\n",
              "    <tr>\n",
              "      <th>2</th>\n",
              "      <td>Senior Consultant</td>\n",
              "      <td>3</td>\n",
              "      <td>60000</td>\n",
              "    </tr>\n",
              "    <tr>\n",
              "      <th>3</th>\n",
              "      <td>Manager</td>\n",
              "      <td>4</td>\n",
              "      <td>80000</td>\n",
              "    </tr>\n",
              "    <tr>\n",
              "      <th>4</th>\n",
              "      <td>Country Manager</td>\n",
              "      <td>5</td>\n",
              "      <td>110000</td>\n",
              "    </tr>\n",
              "  </tbody>\n",
              "</table>\n",
              "</div>"
            ],
            "text/plain": [
              "            Position  Level  Salary\n",
              "0   Business Analyst      1   45000\n",
              "1  Junior Consultant      2   50000\n",
              "2  Senior Consultant      3   60000\n",
              "3            Manager      4   80000\n",
              "4    Country Manager      5  110000"
            ]
          },
          "metadata": {
            "tags": []
          },
          "execution_count": 70
        }
      ]
    },
    {
      "cell_type": "markdown",
      "metadata": {
        "id": "zGRRANqa0YGP"
      },
      "source": [
        "EXTRACTING COLUMNS"
      ]
    },
    {
      "cell_type": "code",
      "metadata": {
        "id": "zjt6UJmcruwj",
        "outputId": "07b241ac-33b5-4c03-fe7d-759428ccaab9",
        "colab": {
          "base_uri": "https://localhost:8080/",
          "height": 187
        }
      },
      "source": [
        "x=dataset.iloc[:,1:2].values\n",
        "y=dataset.iloc[:,2:3].values\n",
        "\n",
        "x=np.array(x).reshape(-1,1)\n",
        "y=np.array(y).reshape(-1,1)\n",
        "x\n"
      ],
      "execution_count": 71,
      "outputs": [
        {
          "output_type": "execute_result",
          "data": {
            "text/plain": [
              "array([[ 1],\n",
              "       [ 2],\n",
              "       [ 3],\n",
              "       [ 4],\n",
              "       [ 5],\n",
              "       [ 6],\n",
              "       [ 7],\n",
              "       [ 8],\n",
              "       [ 9],\n",
              "       [10]])"
            ]
          },
          "metadata": {
            "tags": []
          },
          "execution_count": 71
        }
      ]
    },
    {
      "cell_type": "markdown",
      "metadata": {
        "id": "ZBf_FFT80g_0"
      },
      "source": [
        "SPLITTING DATA INTO TRAIN AND TEXT"
      ]
    },
    {
      "cell_type": "code",
      "metadata": {
        "id": "ftYclmQ9sVk6",
        "outputId": "d9a58f63-c78b-406d-e20f-d2f552aae063",
        "colab": {
          "base_uri": "https://localhost:8080/",
          "height": 153
        }
      },
      "source": [
        "x_train,x_test,y_train,y_test=train_test_split(x,y,test_size=0.2,random_state=0)\n",
        "x_train"
      ],
      "execution_count": 72,
      "outputs": [
        {
          "output_type": "execute_result",
          "data": {
            "text/plain": [
              "array([[ 5],\n",
              "       [10],\n",
              "       [ 2],\n",
              "       [ 7],\n",
              "       [ 8],\n",
              "       [ 4],\n",
              "       [ 1],\n",
              "       [ 6]])"
            ]
          },
          "metadata": {
            "tags": []
          },
          "execution_count": 72
        }
      ]
    },
    {
      "cell_type": "markdown",
      "metadata": {
        "id": "frKoxDpE0mDx"
      },
      "source": [
        "SCALING DATA"
      ]
    },
    {
      "cell_type": "code",
      "metadata": {
        "id": "IF2BbBoNtxx-"
      },
      "source": [
        "sc_x= StandardScaler()\n",
        "sc_y= StandardScaler()\n",
        "x_train=sc_x.fit_transform(x_train)\n",
        "x_test=sc_x.fit_transform(x_test)\n",
        "y_train=sc_y.fit_transform(y_train)\n"
      ],
      "execution_count": 73,
      "outputs": []
    },
    {
      "cell_type": "markdown",
      "metadata": {
        "id": "DSZCQmQt0pIj"
      },
      "source": [
        "TRAINING MODEL"
      ]
    },
    {
      "cell_type": "code",
      "metadata": {
        "id": "CWu7u3Hlulvz",
        "outputId": "8b17f1d4-18c6-4ec0-a5df-9b737cdbe234",
        "colab": {
          "base_uri": "https://localhost:8080/",
          "height": 119
        }
      },
      "source": [
        "modelDT=DecisionTreeRegressor(random_state=0)\n",
        "modelDT.fit(x,y)"
      ],
      "execution_count": 79,
      "outputs": [
        {
          "output_type": "execute_result",
          "data": {
            "text/plain": [
              "DecisionTreeRegressor(ccp_alpha=0.0, criterion='mse', max_depth=None,\n",
              "                      max_features=None, max_leaf_nodes=None,\n",
              "                      min_impurity_decrease=0.0, min_impurity_split=None,\n",
              "                      min_samples_leaf=1, min_samples_split=2,\n",
              "                      min_weight_fraction_leaf=0.0, presort='deprecated',\n",
              "                      random_state=0, splitter='best')"
            ]
          },
          "metadata": {
            "tags": []
          },
          "execution_count": 79
        }
      ]
    },
    {
      "cell_type": "markdown",
      "metadata": {
        "id": "c5rFQfr10sly"
      },
      "source": [
        "VISUALIZING DECISION TREE"
      ]
    },
    {
      "cell_type": "code",
      "metadata": {
        "id": "vm6qgjurvDGo",
        "outputId": "19b5dbeb-e4c7-4a4b-f876-3e63e0783cf0",
        "colab": {
          "base_uri": "https://localhost:8080/",
          "height": 789
        }
      },
      "source": [
        "plt.figure(figsize=(10,8))\n",
        "tree.plot_tree(modelDT,filled=True)"
      ],
      "execution_count": 80,
      "outputs": [
        {
          "output_type": "execute_result",
          "data": {
            "text/plain": [
              "[Text(392.34375, 403.81714285714287, 'X[0] <= 8.5\\nmse = 80662250000.0\\nsamples = 10\\nvalue = 249500.0'),\n",
              " Text(296.4375, 341.69142857142856, 'X[0] <= 6.5\\nmse = 6921484375.0\\nsamples = 8\\nvalue = 124375.0'),\n",
              " Text(209.25, 279.5657142857143, 'X[0] <= 4.5\\nmse = 1381250000.0\\nsamples = 6\\nvalue = 82500.0'),\n",
              " Text(139.5, 217.44, 'X[0] <= 3.5\\nmse = 179687500.0\\nsamples = 4\\nvalue = 58750.0'),\n",
              " Text(104.625, 155.3142857142857, 'X[0] <= 2.5\\nmse = 38888888.889\\nsamples = 3\\nvalue = 51666.667'),\n",
              " Text(69.75, 93.18857142857144, 'X[0] <= 1.5\\nmse = 6250000.0\\nsamples = 2\\nvalue = 47500.0'),\n",
              " Text(34.875, 31.062857142857126, 'mse = 0.0\\nsamples = 1\\nvalue = 45000.0'),\n",
              " Text(104.625, 31.062857142857126, 'mse = 0.0\\nsamples = 1\\nvalue = 50000.0'),\n",
              " Text(139.5, 93.18857142857144, 'mse = 0.0\\nsamples = 1\\nvalue = 60000.0'),\n",
              " Text(174.375, 155.3142857142857, 'mse = 0.0\\nsamples = 1\\nvalue = 80000.0'),\n",
              " Text(279.0, 217.44, 'X[0] <= 5.5\\nmse = 400000000.0\\nsamples = 2\\nvalue = 130000.0'),\n",
              " Text(244.125, 155.3142857142857, 'mse = 0.0\\nsamples = 1\\nvalue = 110000.0'),\n",
              " Text(313.875, 155.3142857142857, 'mse = 0.0\\nsamples = 1\\nvalue = 150000.0'),\n",
              " Text(383.625, 279.5657142857143, 'X[0] <= 7.5\\nmse = 2500000000.0\\nsamples = 2\\nvalue = 250000.0'),\n",
              " Text(348.75, 217.44, 'mse = 0.0\\nsamples = 1\\nvalue = 200000.0'),\n",
              " Text(418.5, 217.44, 'mse = 0.0\\nsamples = 1\\nvalue = 300000.0'),\n",
              " Text(488.25, 341.69142857142856, 'X[0] <= 9.5\\nmse = 62500000000.0\\nsamples = 2\\nvalue = 750000.0'),\n",
              " Text(453.375, 279.5657142857143, 'mse = 0.0\\nsamples = 1\\nvalue = 500000.0'),\n",
              " Text(523.125, 279.5657142857143, 'mse = 0.0\\nsamples = 1\\nvalue = 1000000.0')]"
            ]
          },
          "metadata": {
            "tags": []
          },
          "execution_count": 80
        },
        {
          "output_type": "display_data",
          "data": {
            "image/png": "[encoded data removed]",
            "text/plain": [
              "<Figure size 720x576 with 1 Axes>"
            ]
          },
          "metadata": {
            "tags": [],
            "needs_background": "light"
          }
        }
      ]
    },
    {
      "cell_type": "markdown",
      "metadata": {
        "id": "fUTUkanh0wiT"
      },
      "source": [
        "PREDICTING MODEL"
      ]
    },
    {
      "cell_type": "code",
      "metadata": {
        "id": "NKYb08AOwBcw",
        "outputId": "29cc2adf-afdc-4f55-9b34-b531d9a237ad",
        "colab": {
          "base_uri": "https://localhost:8080/",
          "height": 34
        }
      },
      "source": [
        "y_pred=modelDT.predict([[5.5]])\n",
        "y_pred"
      ],
      "execution_count": 81,
      "outputs": [
        {
          "output_type": "execute_result",
          "data": {
            "text/plain": [
              "array([110000.])"
            ]
          },
          "metadata": {
            "tags": []
          },
          "execution_count": 81
        }
      ]
    },
    {
      "cell_type": "markdown",
      "metadata": {
        "id": "IfaUlEMU000M"
      },
      "source": [
        "FINDING MEAN SQUARE AND R ERROR"
      ]
    },
    {
      "cell_type": "code",
      "metadata": {
        "id": "wAwLenIwyAbG",
        "outputId": "dbf89add-3c09-47d0-b373-b648ee87b09c",
        "colab": {
          "base_uri": "https://localhost:8080/",
          "height": 51
        }
      },
      "source": [
        "mse=mean_squared_error(y_test,modelDT.predict(x_test))\n",
        "print('mean square error : \\t',math.sqrt(mse))\n",
        "print('r square error : \\t ',modelDT.score(x_test,y_test))"
      ],
      "execution_count": 82,
      "outputs": [
        {
          "output_type": "stream",
          "text": [
            "mean square error : \t 321908.37205639743\n",
            "r square error : \t  -1.1410123966942147\n"
          ],
          "name": "stdout"
        }
      ]
    },
    {
      "cell_type": "markdown",
      "metadata": {
        "id": "Jo8N1XNt07Ew"
      },
      "source": [
        "VISUALIZATION"
      ]
    },
    {
      "cell_type": "code",
      "metadata": {
        "id": "kKN5JjlDywCk",
        "outputId": "75446507-fbdf-4c45-8c3f-76ad4f0f1b29",
        "colab": {
          "base_uri": "https://localhost:8080/",
          "height": 295
        }
      },
      "source": [
        "plt.scatter(x,y,color='orange')\n",
        "plt.plot(x,modelDT.predict(x),color='blue')\n",
        "plt.title('trained visiualization')\n",
        "plt.xlabel('level')\n",
        "plt.ylabel('salary')\n",
        "plt.show()"
      ],
      "execution_count": 83,
      "outputs": [
        {
          "output_type": "display_data",
          "data": {
            "image/png": "[encoded data removed]",
            "text/plain": [
              "<Figure size 432x288 with 1 Axes>"
            ]
          },
          "metadata": {
            "tags": [],
            "needs_background": "light"
          }
        }
      ]
    }
  ]
}