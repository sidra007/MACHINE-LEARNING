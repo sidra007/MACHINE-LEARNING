{
  "nbformat": 4,
  "nbformat_minor": 0,
  "metadata": {
    "colab": {
      "name": "linear regression.ipynb",
      "provenance": [],
      "collapsed_sections": [],
      "mount_file_id": "1opuCpAbs0uLqcK35FfXboZvZJ2Bt4sCd",
      "authorship_tag": "ABX9TyMZEU/UPJaV24DWwKR25V/P"
    },
    "kernelspec": {
      "name": "python3",
      "display_name": "Python 3"
    }
  },
  "cells": [
    {
      "cell_type": "markdown",
      "metadata": {
        "id": "pUswMj_9sIor"
      },
      "source": [
        "# **LINEAR REGRESSION**"
      ]
    },
    {
      "cell_type": "markdown",
      "metadata": {
        "id": "A5qB-QnysP9i"
      },
      "source": [
        "IMPORTING LIBRARIES"
      ]
    },
    {
      "cell_type": "code",
      "metadata": {
        "id": "kHp8ttVtmF7u"
      },
      "source": [
        "import numpy as np\n",
        "import pandas as pd\n",
        "from matplotlib import pyplot as plt\n",
        "from sklearn.linear_model import LinearRegression\n",
        "from sklearn.metrics import mean_squared_error\n",
        "import math\n"
      ],
      "execution_count": 1,
      "outputs": []
    },
    {
      "cell_type": "markdown",
      "metadata": {
        "id": "VQYFqt1qsapl"
      },
      "source": [
        "LOAD DATASET"
      ]
    },
    {
      "cell_type": "code",
      "metadata": {
        "id": "4d576pAXn5Pr",
        "outputId": "a7e53fd5-80ab-4875-9f69-c3d3e1306f49",
        "colab": {
          "base_uri": "https://localhost:8080/",
          "height": 204
        }
      },
      "source": [
        "dataset=pd.read_csv('/content/drive/My Drive/data/headbrain.csv')\n",
        "dataset.head()"
      ],
      "execution_count": 2,
      "outputs": [
        {
          "output_type": "execute_result",
          "data": {
            "text/html": [
              "<div>\n",
              "<style scoped>\n",
              "    .dataframe tbody tr th:only-of-type {\n",
              "        vertical-align: middle;\n",
              "    }\n",
              "\n",
              "    .dataframe tbody tr th {\n",
              "        vertical-align: top;\n",
              "    }\n",
              "\n",
              "    .dataframe thead th {\n",
              "        text-align: right;\n",
              "    }\n",
              "</style>\n",
              "<table border=\"1\" class=\"dataframe\">\n",
              "  <thead>\n",
              "    <tr style=\"text-align: right;\">\n",
              "      <th></th>\n",
              "      <th>Gender</th>\n",
              "      <th>Age Range</th>\n",
              "      <th>Head Size(cm^3)</th>\n",
              "      <th>Brain Weight(grams)</th>\n",
              "    </tr>\n",
              "  </thead>\n",
              "  <tbody>\n",
              "    <tr>\n",
              "      <th>0</th>\n",
              "      <td>1</td>\n",
              "      <td>1</td>\n",
              "      <td>4512</td>\n",
              "      <td>1530</td>\n",
              "    </tr>\n",
              "    <tr>\n",
              "      <th>1</th>\n",
              "      <td>1</td>\n",
              "      <td>1</td>\n",
              "      <td>3738</td>\n",
              "      <td>1297</td>\n",
              "    </tr>\n",
              "    <tr>\n",
              "      <th>2</th>\n",
              "      <td>1</td>\n",
              "      <td>1</td>\n",
              "      <td>4261</td>\n",
              "      <td>1335</td>\n",
              "    </tr>\n",
              "    <tr>\n",
              "      <th>3</th>\n",
              "      <td>1</td>\n",
              "      <td>1</td>\n",
              "      <td>3777</td>\n",
              "      <td>1282</td>\n",
              "    </tr>\n",
              "    <tr>\n",
              "      <th>4</th>\n",
              "      <td>1</td>\n",
              "      <td>1</td>\n",
              "      <td>4177</td>\n",
              "      <td>1590</td>\n",
              "    </tr>\n",
              "  </tbody>\n",
              "</table>\n",
              "</div>"
            ],
            "text/plain": [
              "   Gender  Age Range  Head Size(cm^3)  Brain Weight(grams)\n",
              "0       1          1             4512                 1530\n",
              "1       1          1             3738                 1297\n",
              "2       1          1             4261                 1335\n",
              "3       1          1             3777                 1282\n",
              "4       1          1             4177                 1590"
            ]
          },
          "metadata": {
            "tags": []
          },
          "execution_count": 2
        }
      ]
    },
    {
      "cell_type": "markdown",
      "metadata": {
        "id": "TJRCGZOUslcR"
      },
      "source": [
        "EXTRACTING RELAVENT COLUMNS"
      ]
    },
    {
      "cell_type": "code",
      "metadata": {
        "id": "Ua0DkwyYoT3K"
      },
      "source": [
        "headsize=dataset['Head Size(cm^3)']\n",
        "brainweight=dataset['Brain Weight(grams)']\n"
      ],
      "execution_count": 4,
      "outputs": []
    },
    {
      "cell_type": "markdown",
      "metadata": {
        "id": "upL1D-x0sgOH"
      },
      "source": [
        "DATA VISUALIZTION"
      ]
    },
    {
      "cell_type": "code",
      "metadata": {
        "id": "JgIbaRYhojde",
        "outputId": "a6b5544d-a782-44b5-f552-5b48e2e045f7",
        "colab": {
          "base_uri": "https://localhost:8080/",
          "height": 295
        }
      },
      "source": [
        "plt.scatter(headsize,brainweight)\n",
        "plt.title('scatter plot of headsize vs brain weight')\n",
        "plt.xlabel('head size')\n",
        "plt.ylabel('brain weight')\n",
        "plt.show()"
      ],
      "execution_count": 5,
      "outputs": [
        {
          "output_type": "display_data",
          "data": {
            "image/png": "[encoded data removed]",
            "text/plain": [
              "<Figure size 432x288 with 1 Axes>"
            ]
          },
          "metadata": {
            "tags": [],
            "needs_background": "light"
          }
        }
      ]
    },
    {
      "cell_type": "markdown",
      "metadata": {
        "id": "PSVJgY8qsr9B"
      },
      "source": [
        "CONVERTING COLUMNS INTO 1D NUMPY ARRAY"
      ]
    },
    {
      "cell_type": "code",
      "metadata": {
        "id": "U23NubT4o7Sc"
      },
      "source": [
        "x=np.array(headsize).reshape(-1,1)\n",
        "y=np.array(brainweight).reshape(-1,1)"
      ],
      "execution_count": 10,
      "outputs": []
    },
    {
      "cell_type": "markdown",
      "metadata": {
        "id": "yquFcC_FszOF"
      },
      "source": [
        "TRAINING OF MODEL"
      ]
    },
    {
      "cell_type": "code",
      "metadata": {
        "id": "qW1RlboOphCS",
        "outputId": "04998512-6261-4afa-94f1-17f9de2f8ce3",
        "colab": {
          "base_uri": "https://localhost:8080/",
          "height": 34
        }
      },
      "source": [
        "model=LinearRegression()\n",
        "model.fit(x,y)"
      ],
      "execution_count": 11,
      "outputs": [
        {
          "output_type": "execute_result",
          "data": {
            "text/plain": [
              "LinearRegression(copy_X=True, fit_intercept=True, n_jobs=None, normalize=False)"
            ]
          },
          "metadata": {
            "tags": []
          },
          "execution_count": 11
        }
      ]
    },
    {
      "cell_type": "markdown",
      "metadata": {
        "id": "w9gxCTXgs4jV"
      },
      "source": [
        "VISUALIZATION OF TRAINED MODEL"
      ]
    },
    {
      "cell_type": "code",
      "metadata": {
        "id": "QaVklSCOpr_1",
        "outputId": "d5b01782-276e-4024-f136-eb8fa8e89b70",
        "colab": {
          "base_uri": "https://localhost:8080/",
          "height": 295
        }
      },
      "source": [
        "plt.scatter(x,y,color='orange')\n",
        "plt.plot(x,model.predict(x),color='black')\n",
        "plt.title('linear regression')\n",
        "plt.xlabel('head size')\n",
        "plt.ylabel('brain weight')\n",
        "plt.show()"
      ],
      "execution_count": 12,
      "outputs": [
        {
          "output_type": "display_data",
          "data": {
            "image/png": "[encoded data removed]",
            "text/plain": [
              "<Figure size 432x288 with 1 Axes>"
            ]
          },
          "metadata": {
            "tags": [],
            "needs_background": "light"
          }
        }
      ]
    },
    {
      "cell_type": "markdown",
      "metadata": {
        "id": "L2wh50l_s-6A"
      },
      "source": [
        "FINDING MEAN SQUARE ERROR AND R SQUARE ERROR"
      ]
    },
    {
      "cell_type": "code",
      "metadata": {
        "id": "4GWsOsP6qYg2",
        "outputId": "3bc020b6-b3ad-4a31-9251-15f0452e8351",
        "colab": {
          "base_uri": "https://localhost:8080/",
          "height": 51
        }
      },
      "source": [
        "mse=mean_squared_error(x,y)\n",
        "print('the mean sures error is : \\t', math.sqrt(mse))\n",
        "print ('R square error is: \\t',model.score(x,y))"
      ],
      "execution_count": 13,
      "outputs": [
        {
          "output_type": "stream",
          "text": [
            "the mean sures error is : \t 2367.495611943946\n",
            "R square error is: \t 0.639311719957\n"
          ],
          "name": "stdout"
        }
      ]
    },
    {
      "cell_type": "markdown",
      "metadata": {
        "id": "InTv1DBotISB"
      },
      "source": [
        "PREDICTION OF MODEL"
      ]
    },
    {
      "cell_type": "code",
      "metadata": {
        "id": "xk6fC--jrA-N",
        "outputId": "a89de0d0-475b-4ecd-a475-6e48d6763440",
        "colab": {
          "base_uri": "https://localhost:8080/",
          "height": 34
        }
      },
      "source": [
        "print('prediction by the model:' , model.predict([[3000]]))"
      ],
      "execution_count": 17,
      "outputs": [
        {
          "output_type": "stream",
          "text": [
            "prediction by the model: [[1115.86143952]]\n"
          ],
          "name": "stdout"
        }
      ]
    }
  ]
}