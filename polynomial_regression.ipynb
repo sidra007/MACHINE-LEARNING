{
  "nbformat": 4,
  "nbformat_minor": 0,
  "metadata": {
    "colab": {
      "name": "polynomial regression.ipynb",
      "provenance": [],
      "mount_file_id": "1UsIPwYfeQqiB8g_W-HmXbY8Txx-jsqpO",
      "authorship_tag": "ABX9TyNqaioyzwVzUlh61O0au6ki"
    },
    "kernelspec": {
      "name": "python3",
      "display_name": "Python 3"
    }
  },
  "cells": [
    {
      "cell_type": "markdown",
      "metadata": {
        "id": "pbpT0AgAOABG"
      },
      "source": [
        "# POLYNOMIAL REGRESSION"
      ]
    },
    {
      "cell_type": "markdown",
      "metadata": {
        "id": "c2k-zPW1OFnF"
      },
      "source": [
        "IMPORTING LIBRARIES"
      ]
    },
    {
      "cell_type": "code",
      "metadata": {
        "id": "HM4lsiNi_jyK"
      },
      "source": [
        "import numpy as np\n",
        "import pandas as pd\n",
        "import math\n",
        "from matplotlib import pyplot as plt\n",
        "from sklearn.model_selection import train_test_split\n",
        "from sklearn.linear_model import LinearRegression\n",
        "from sklearn.metrics import mean_squared_error\n",
        "#### for polynomial features\n",
        "from sklearn.preprocessing import PolynomialFeatures"
      ],
      "execution_count": 31,
      "outputs": []
    },
    {
      "cell_type": "markdown",
      "metadata": {
        "id": "0P3XGLeiOI1r"
      },
      "source": [
        "LOADING DATA"
      ]
    },
    {
      "cell_type": "code",
      "metadata": {
        "id": "wI77RvngC0kn",
        "outputId": "4d3122e7-d54d-4c5f-d4a9-230e45cb7253",
        "colab": {
          "base_uri": "https://localhost:8080/",
          "height": 204
        }
      },
      "source": [
        "dataset= pd.read_csv('/content/drive/My Drive/data/Drugs_Performance.csv')\n",
        "dataset.head()"
      ],
      "execution_count": 32,
      "outputs": [
        {
          "output_type": "execute_result",
          "data": {
            "text/html": [
              "<div>\n",
              "<style scoped>\n",
              "    .dataframe tbody tr th:only-of-type {\n",
              "        vertical-align: middle;\n",
              "    }\n",
              "\n",
              "    .dataframe tbody tr th {\n",
              "        vertical-align: top;\n",
              "    }\n",
              "\n",
              "    .dataframe thead th {\n",
              "        text-align: right;\n",
              "    }\n",
              "</style>\n",
              "<table border=\"1\" class=\"dataframe\">\n",
              "  <thead>\n",
              "    <tr style=\"text-align: right;\">\n",
              "      <th></th>\n",
              "      <th>Age</th>\n",
              "      <th>Drugs_Perf</th>\n",
              "    </tr>\n",
              "  </thead>\n",
              "  <tbody>\n",
              "    <tr>\n",
              "      <th>0</th>\n",
              "      <td>1</td>\n",
              "      <td>1.166667</td>\n",
              "    </tr>\n",
              "    <tr>\n",
              "      <th>1</th>\n",
              "      <td>2</td>\n",
              "      <td>1.833333</td>\n",
              "    </tr>\n",
              "    <tr>\n",
              "      <th>2</th>\n",
              "      <td>3</td>\n",
              "      <td>2.833333</td>\n",
              "    </tr>\n",
              "    <tr>\n",
              "      <th>3</th>\n",
              "      <td>4</td>\n",
              "      <td>4.166667</td>\n",
              "    </tr>\n",
              "    <tr>\n",
              "      <th>4</th>\n",
              "      <td>5</td>\n",
              "      <td>5.833333</td>\n",
              "    </tr>\n",
              "  </tbody>\n",
              "</table>\n",
              "</div>"
            ],
            "text/plain": [
              "   Age  Drugs_Perf\n",
              "0    1    1.166667\n",
              "1    2    1.833333\n",
              "2    3    2.833333\n",
              "3    4    4.166667\n",
              "4    5    5.833333"
            ]
          },
          "metadata": {
            "tags": []
          },
          "execution_count": 32
        }
      ]
    },
    {
      "cell_type": "markdown",
      "metadata": {
        "id": "Gu4T3nUHOMxw"
      },
      "source": [
        "EXTRACTING RELEVENT COLUMNS"
      ]
    },
    {
      "cell_type": "code",
      "metadata": {
        "id": "uoLxL7yHDUi1"
      },
      "source": [
        "x=dataset[['Age']].values\n",
        "y=dataset['Drugs_Perf'].values\n"
      ],
      "execution_count": 33,
      "outputs": []
    },
    {
      "cell_type": "markdown",
      "metadata": {
        "id": "eh782o51ORUs"
      },
      "source": [
        "VISUALIZING DATA"
      ]
    },
    {
      "cell_type": "code",
      "metadata": {
        "id": "059K802oEpMa",
        "outputId": "887d44c7-b507-4101-af3a-14bbff3f058a",
        "colab": {
          "base_uri": "https://localhost:8080/",
          "height": 295
        }
      },
      "source": [
        "plt.plot(x,y)\n",
        "plt.title('dataset visualization')\n",
        "plt.xlabel('age')\n",
        "plt.ylabel('drug effectiveness')\n",
        "plt.show()"
      ],
      "execution_count": 34,
      "outputs": [
        {
          "output_type": "display_data",
          "data": {
            "image/png": "[encoded data removed]",
            "text/plain": [
              "<Figure size 432x288 with 1 Axes>"
            ]
          },
          "metadata": {
            "tags": [],
            "needs_background": "light"
          }
        }
      ]
    },
    {
      "cell_type": "markdown",
      "metadata": {
        "id": "-o05dJRqOWdC"
      },
      "source": [
        "SPLITING DATA INTO TRAIN AND TEST"
      ]
    },
    {
      "cell_type": "code",
      "metadata": {
        "id": "FrVtoOLzFKNW"
      },
      "source": [
        "x_train,x_test,y_train,y_test=train_test_split(x,y,test_size=0.2,random_state=0)"
      ],
      "execution_count": 35,
      "outputs": []
    },
    {
      "cell_type": "markdown",
      "metadata": {
        "id": "iSURViAtOcth"
      },
      "source": [
        "TRANFORMING DATA (PREPROCESSING)"
      ]
    },
    {
      "cell_type": "code",
      "metadata": {
        "id": "s1v7pQjFK-fb",
        "outputId": "4f6b7cf6-918c-4eb1-96fa-6abad932605d",
        "colab": {
          "base_uri": "https://localhost:8080/",
          "height": 51
        }
      },
      "source": [
        "poly=PolynomialFeatures(degree=2)\n",
        "x_poly=poly.fit_transform(x_train)\n",
        "poly.fit(x_poly,y_train)"
      ],
      "execution_count": 57,
      "outputs": [
        {
          "output_type": "execute_result",
          "data": {
            "text/plain": [
              "PolynomialFeatures(degree=2, include_bias=True, interaction_only=False,\n",
              "                   order='C')"
            ]
          },
          "metadata": {
            "tags": []
          },
          "execution_count": 57
        }
      ]
    },
    {
      "cell_type": "markdown",
      "metadata": {
        "id": "_gq_1AoZO7Fu"
      },
      "source": [
        "TRAINING MODEL"
      ]
    },
    {
      "cell_type": "code",
      "metadata": {
        "id": "y23xnDciLOGz",
        "outputId": "0d775216-d586-4913-8efa-c0d2315f17ef",
        "colab": {
          "base_uri": "https://localhost:8080/",
          "height": 34
        }
      },
      "source": [
        "model=LinearRegression()\n",
        "model.fit(x_poly,y_train)\n"
      ],
      "execution_count": 58,
      "outputs": [
        {
          "output_type": "execute_result",
          "data": {
            "text/plain": [
              "LinearRegression(copy_X=True, fit_intercept=True, n_jobs=None, normalize=False)"
            ]
          },
          "metadata": {
            "tags": []
          },
          "execution_count": 58
        }
      ]
    },
    {
      "cell_type": "markdown",
      "metadata": {
        "id": "iTVWIgKEO-7i"
      },
      "source": [
        "VISUALIZING TRAINED MODEL"
      ]
    },
    {
      "cell_type": "code",
      "metadata": {
        "id": "FqOzAQWJLbIO",
        "outputId": "936b4d4a-6415-40aa-e2ed-7205552e8e9e",
        "colab": {
          "base_uri": "https://localhost:8080/",
          "height": 312
        }
      },
      "source": [
        "plt.scatter(x,y,color='orange')\n",
        "plt.plot(x,model.predict(poly.fit_transform(x)), color='black')\n",
        "plt.title('visualization after training')\n",
        "plt.xlabel('age')\n",
        "plt.ylabel('drug effectiveness')"
      ],
      "execution_count": 63,
      "outputs": [
        {
          "output_type": "execute_result",
          "data": {
            "text/plain": [
              "Text(0, 0.5, 'drug effectiveness')"
            ]
          },
          "metadata": {
            "tags": []
          },
          "execution_count": 63
        },
        {
          "output_type": "display_data",
          "data": {
            "image/png": "[encoded data removed]",
            "text/plain": [
              "<Figure size 432x288 with 1 Axes>"
            ]
          },
          "metadata": {
            "tags": [],
            "needs_background": "light"
          }
        }
      ]
    },
    {
      "cell_type": "markdown",
      "metadata": {
        "id": "rz5VGtq7PEv5"
      },
      "source": [
        "PREDICTING MODEL"
      ]
    },
    {
      "cell_type": "code",
      "metadata": {
        "id": "srvCeEwlNbnb",
        "outputId": "1a08a871-01ef-4ad8-85cc-ca50eed66b57",
        "colab": {
          "base_uri": "https://localhost:8080/",
          "height": 85
        }
      },
      "source": [
        "print(' the predicted value is: /t', model.predict(poly.fit_transform(x_test)))"
      ],
      "execution_count": 65,
      "outputs": [
        {
          "output_type": "stream",
          "text": [
            " the predicted value is: /t [ 166.16666667  287.83333334  330.83333333  442.83333332   92.83333334\n",
            "  514.16666665    2.83333331  551.83333331  126.83333334   15.83333333\n",
            "  829.16666661   35.83333333  760.16666662 1027.83333325   51.83333334\n",
            "  136.16666667  976.16666659]\n"
          ],
          "name": "stdout"
        }
      ]
    }
  ]
}